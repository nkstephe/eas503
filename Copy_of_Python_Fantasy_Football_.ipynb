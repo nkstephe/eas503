{
  "nbformat": 4,
  "nbformat_minor": 5,
  "metadata": {
    "kernelspec": {
      "display_name": "Python 3",
      "language": "python",
      "name": "python3"
    },
    "language_info": {
      "codemirror_mode": {
        "name": "ipython",
        "version": 3
      },
      "file_extension": ".py",
      "mimetype": "text/x-python",
      "name": "python",
      "nbconvert_exporter": "python",
      "pygments_lexer": "ipython3",
      "version": "3.8.8"
    },
    "colab": {
      "name": "Copy of Python Fantasy Football .ipynb",
      "provenance": [],
      "include_colab_link": true
    }
  },
  "cells": [
    {
      "cell_type": "markdown",
      "metadata": {
        "id": "view-in-github",
        "colab_type": "text"
      },
      "source": [
        "<a href=\"https://colab.research.google.com/github/nkstephe/eas503/blob/master/Copy_of_Python_Fantasy_Football_.ipynb\" target=\"_parent\"><img src=\"https://colab.research.google.com/assets/colab-badge.svg\" alt=\"Open In Colab\"/></a>"
      ]
    },
    {
      "cell_type": "code",
      "metadata": {
        "id": "e395de46"
      },
      "source": [
        "# !pip install pandas\n",
        "# !pip install numpy\n",
        "# !pip install matplotlib\n",
        "#!pip install sklearn\n",
        "\n",
        "#Importing the packages needed for visuals and analysis\n",
        "\n",
        "import pandas as pd\n",
        "import seaborn as sns\n",
        "import numpy as np\n",
        "import sklearn as sk"
      ],
      "id": "e395de46",
      "execution_count": null,
      "outputs": []
    },
    {
      "cell_type": "code",
      "metadata": {
        "colab": {
          "base_uri": "https://localhost:8080/",
          "height": 467
        },
        "id": "3b847639",
        "outputId": "5c3acddc-6a09-4de3-b95d-48ea99837189"
      },
      "source": [
        "#Importing the data from csv files for the QB, RB, and WR positions\n",
        "\n",
        "qbdata = pd.read_csv(r'C:\\Users\\nates\\Desktop\\MPS Program\\CDA 501 Int. Data Driven Analysis\\Python Project\\qb_stats_and_projections.csv')\n",
        "qbdf = pd.DataFrame(qbdata)\n",
        "\n",
        "rbdata = pd.read_csv(r'C:\\Users\\nates\\Desktop\\MPS Program\\CDA 501 Int. Data Driven Analysis\\Python Project\\rb_stats_and_projections.csv')\n",
        "rbdf = pd.DataFrame(rbdata)\n",
        "\n",
        "wrdata = pd.read_csv(r'C:\\Users\\nates\\Desktop\\MPS Program\\CDA 501 Int. Data Driven Analysis\\Python Project\\wr_stats_and_projections.csv')\n",
        "wrdf = pd.DataFrame(wrdata)\n",
        "\n",
        "print(rbdf)\n",
        "\n",
        "\n"
      ],
      "id": "3b847639",
      "execution_count": null,
      "outputs": [
        {
          "output_type": "error",
          "ename": "FileNotFoundError",
          "evalue": "ignored",
          "traceback": [
            "\u001b[0;31m---------------------------------------------------------------------------\u001b[0m",
            "\u001b[0;31mFileNotFoundError\u001b[0m                         Traceback (most recent call last)",
            "\u001b[0;32m<ipython-input-3-d4b4f3b23e63>\u001b[0m in \u001b[0;36m<module>\u001b[0;34m()\u001b[0m\n\u001b[1;32m      1\u001b[0m \u001b[0;31m#Importing the data from csv files for the QB, RB, and WR positions\u001b[0m\u001b[0;34m\u001b[0m\u001b[0;34m\u001b[0m\u001b[0;34m\u001b[0m\u001b[0m\n\u001b[1;32m      2\u001b[0m \u001b[0;34m\u001b[0m\u001b[0m\n\u001b[0;32m----> 3\u001b[0;31m \u001b[0mqbdata\u001b[0m \u001b[0;34m=\u001b[0m \u001b[0mpd\u001b[0m\u001b[0;34m.\u001b[0m\u001b[0mread_csv\u001b[0m\u001b[0;34m(\u001b[0m\u001b[0;34mr'C:\\Users\\nates\\Desktop\\MPS Program\\CDA 501 Int. Data Driven Analysis\\Python Project\\qb_stats_and_projections.csv'\u001b[0m\u001b[0;34m)\u001b[0m\u001b[0;34m\u001b[0m\u001b[0;34m\u001b[0m\u001b[0m\n\u001b[0m\u001b[1;32m      4\u001b[0m \u001b[0mqbdf\u001b[0m \u001b[0;34m=\u001b[0m \u001b[0mpd\u001b[0m\u001b[0;34m.\u001b[0m\u001b[0mDataFrame\u001b[0m\u001b[0;34m(\u001b[0m\u001b[0mqbdata\u001b[0m\u001b[0;34m)\u001b[0m\u001b[0;34m\u001b[0m\u001b[0;34m\u001b[0m\u001b[0m\n\u001b[1;32m      5\u001b[0m \u001b[0;34m\u001b[0m\u001b[0m\n",
            "\u001b[0;32m/usr/local/lib/python3.7/dist-packages/pandas/io/parsers.py\u001b[0m in \u001b[0;36mread_csv\u001b[0;34m(filepath_or_buffer, sep, delimiter, header, names, index_col, usecols, squeeze, prefix, mangle_dupe_cols, dtype, engine, converters, true_values, false_values, skipinitialspace, skiprows, skipfooter, nrows, na_values, keep_default_na, na_filter, verbose, skip_blank_lines, parse_dates, infer_datetime_format, keep_date_col, date_parser, dayfirst, cache_dates, iterator, chunksize, compression, thousands, decimal, lineterminator, quotechar, quoting, doublequote, escapechar, comment, encoding, dialect, error_bad_lines, warn_bad_lines, delim_whitespace, low_memory, memory_map, float_precision)\u001b[0m\n\u001b[1;32m    686\u001b[0m     )\n\u001b[1;32m    687\u001b[0m \u001b[0;34m\u001b[0m\u001b[0m\n\u001b[0;32m--> 688\u001b[0;31m     \u001b[0;32mreturn\u001b[0m \u001b[0m_read\u001b[0m\u001b[0;34m(\u001b[0m\u001b[0mfilepath_or_buffer\u001b[0m\u001b[0;34m,\u001b[0m \u001b[0mkwds\u001b[0m\u001b[0;34m)\u001b[0m\u001b[0;34m\u001b[0m\u001b[0;34m\u001b[0m\u001b[0m\n\u001b[0m\u001b[1;32m    689\u001b[0m \u001b[0;34m\u001b[0m\u001b[0m\n\u001b[1;32m    690\u001b[0m \u001b[0;34m\u001b[0m\u001b[0m\n",
            "\u001b[0;32m/usr/local/lib/python3.7/dist-packages/pandas/io/parsers.py\u001b[0m in \u001b[0;36m_read\u001b[0;34m(filepath_or_buffer, kwds)\u001b[0m\n\u001b[1;32m    452\u001b[0m \u001b[0;34m\u001b[0m\u001b[0m\n\u001b[1;32m    453\u001b[0m     \u001b[0;31m# Create the parser.\u001b[0m\u001b[0;34m\u001b[0m\u001b[0;34m\u001b[0m\u001b[0;34m\u001b[0m\u001b[0m\n\u001b[0;32m--> 454\u001b[0;31m     \u001b[0mparser\u001b[0m \u001b[0;34m=\u001b[0m \u001b[0mTextFileReader\u001b[0m\u001b[0;34m(\u001b[0m\u001b[0mfp_or_buf\u001b[0m\u001b[0;34m,\u001b[0m \u001b[0;34m**\u001b[0m\u001b[0mkwds\u001b[0m\u001b[0;34m)\u001b[0m\u001b[0;34m\u001b[0m\u001b[0;34m\u001b[0m\u001b[0m\n\u001b[0m\u001b[1;32m    455\u001b[0m \u001b[0;34m\u001b[0m\u001b[0m\n\u001b[1;32m    456\u001b[0m     \u001b[0;32mif\u001b[0m \u001b[0mchunksize\u001b[0m \u001b[0;32mor\u001b[0m \u001b[0miterator\u001b[0m\u001b[0;34m:\u001b[0m\u001b[0;34m\u001b[0m\u001b[0;34m\u001b[0m\u001b[0m\n",
            "\u001b[0;32m/usr/local/lib/python3.7/dist-packages/pandas/io/parsers.py\u001b[0m in \u001b[0;36m__init__\u001b[0;34m(self, f, engine, **kwds)\u001b[0m\n\u001b[1;32m    946\u001b[0m             \u001b[0mself\u001b[0m\u001b[0;34m.\u001b[0m\u001b[0moptions\u001b[0m\u001b[0;34m[\u001b[0m\u001b[0;34m\"has_index_names\"\u001b[0m\u001b[0;34m]\u001b[0m \u001b[0;34m=\u001b[0m \u001b[0mkwds\u001b[0m\u001b[0;34m[\u001b[0m\u001b[0;34m\"has_index_names\"\u001b[0m\u001b[0;34m]\u001b[0m\u001b[0;34m\u001b[0m\u001b[0;34m\u001b[0m\u001b[0m\n\u001b[1;32m    947\u001b[0m \u001b[0;34m\u001b[0m\u001b[0m\n\u001b[0;32m--> 948\u001b[0;31m         \u001b[0mself\u001b[0m\u001b[0;34m.\u001b[0m\u001b[0m_make_engine\u001b[0m\u001b[0;34m(\u001b[0m\u001b[0mself\u001b[0m\u001b[0;34m.\u001b[0m\u001b[0mengine\u001b[0m\u001b[0;34m)\u001b[0m\u001b[0;34m\u001b[0m\u001b[0;34m\u001b[0m\u001b[0m\n\u001b[0m\u001b[1;32m    949\u001b[0m \u001b[0;34m\u001b[0m\u001b[0m\n\u001b[1;32m    950\u001b[0m     \u001b[0;32mdef\u001b[0m \u001b[0mclose\u001b[0m\u001b[0;34m(\u001b[0m\u001b[0mself\u001b[0m\u001b[0;34m)\u001b[0m\u001b[0;34m:\u001b[0m\u001b[0;34m\u001b[0m\u001b[0;34m\u001b[0m\u001b[0m\n",
            "\u001b[0;32m/usr/local/lib/python3.7/dist-packages/pandas/io/parsers.py\u001b[0m in \u001b[0;36m_make_engine\u001b[0;34m(self, engine)\u001b[0m\n\u001b[1;32m   1178\u001b[0m     \u001b[0;32mdef\u001b[0m \u001b[0m_make_engine\u001b[0m\u001b[0;34m(\u001b[0m\u001b[0mself\u001b[0m\u001b[0;34m,\u001b[0m \u001b[0mengine\u001b[0m\u001b[0;34m=\u001b[0m\u001b[0;34m\"c\"\u001b[0m\u001b[0;34m)\u001b[0m\u001b[0;34m:\u001b[0m\u001b[0;34m\u001b[0m\u001b[0;34m\u001b[0m\u001b[0m\n\u001b[1;32m   1179\u001b[0m         \u001b[0;32mif\u001b[0m \u001b[0mengine\u001b[0m \u001b[0;34m==\u001b[0m \u001b[0;34m\"c\"\u001b[0m\u001b[0;34m:\u001b[0m\u001b[0;34m\u001b[0m\u001b[0;34m\u001b[0m\u001b[0m\n\u001b[0;32m-> 1180\u001b[0;31m             \u001b[0mself\u001b[0m\u001b[0;34m.\u001b[0m\u001b[0m_engine\u001b[0m \u001b[0;34m=\u001b[0m \u001b[0mCParserWrapper\u001b[0m\u001b[0;34m(\u001b[0m\u001b[0mself\u001b[0m\u001b[0;34m.\u001b[0m\u001b[0mf\u001b[0m\u001b[0;34m,\u001b[0m \u001b[0;34m**\u001b[0m\u001b[0mself\u001b[0m\u001b[0;34m.\u001b[0m\u001b[0moptions\u001b[0m\u001b[0;34m)\u001b[0m\u001b[0;34m\u001b[0m\u001b[0;34m\u001b[0m\u001b[0m\n\u001b[0m\u001b[1;32m   1181\u001b[0m         \u001b[0;32melse\u001b[0m\u001b[0;34m:\u001b[0m\u001b[0;34m\u001b[0m\u001b[0;34m\u001b[0m\u001b[0m\n\u001b[1;32m   1182\u001b[0m             \u001b[0;32mif\u001b[0m \u001b[0mengine\u001b[0m \u001b[0;34m==\u001b[0m \u001b[0;34m\"python\"\u001b[0m\u001b[0;34m:\u001b[0m\u001b[0;34m\u001b[0m\u001b[0;34m\u001b[0m\u001b[0m\n",
            "\u001b[0;32m/usr/local/lib/python3.7/dist-packages/pandas/io/parsers.py\u001b[0m in \u001b[0;36m__init__\u001b[0;34m(self, src, **kwds)\u001b[0m\n\u001b[1;32m   2008\u001b[0m         \u001b[0mkwds\u001b[0m\u001b[0;34m[\u001b[0m\u001b[0;34m\"usecols\"\u001b[0m\u001b[0;34m]\u001b[0m \u001b[0;34m=\u001b[0m \u001b[0mself\u001b[0m\u001b[0;34m.\u001b[0m\u001b[0musecols\u001b[0m\u001b[0;34m\u001b[0m\u001b[0;34m\u001b[0m\u001b[0m\n\u001b[1;32m   2009\u001b[0m \u001b[0;34m\u001b[0m\u001b[0m\n\u001b[0;32m-> 2010\u001b[0;31m         \u001b[0mself\u001b[0m\u001b[0;34m.\u001b[0m\u001b[0m_reader\u001b[0m \u001b[0;34m=\u001b[0m \u001b[0mparsers\u001b[0m\u001b[0;34m.\u001b[0m\u001b[0mTextReader\u001b[0m\u001b[0;34m(\u001b[0m\u001b[0msrc\u001b[0m\u001b[0;34m,\u001b[0m \u001b[0;34m**\u001b[0m\u001b[0mkwds\u001b[0m\u001b[0;34m)\u001b[0m\u001b[0;34m\u001b[0m\u001b[0;34m\u001b[0m\u001b[0m\n\u001b[0m\u001b[1;32m   2011\u001b[0m         \u001b[0mself\u001b[0m\u001b[0;34m.\u001b[0m\u001b[0munnamed_cols\u001b[0m \u001b[0;34m=\u001b[0m \u001b[0mself\u001b[0m\u001b[0;34m.\u001b[0m\u001b[0m_reader\u001b[0m\u001b[0;34m.\u001b[0m\u001b[0munnamed_cols\u001b[0m\u001b[0;34m\u001b[0m\u001b[0;34m\u001b[0m\u001b[0m\n\u001b[1;32m   2012\u001b[0m \u001b[0;34m\u001b[0m\u001b[0m\n",
            "\u001b[0;32mpandas/_libs/parsers.pyx\u001b[0m in \u001b[0;36mpandas._libs.parsers.TextReader.__cinit__\u001b[0;34m()\u001b[0m\n",
            "\u001b[0;32mpandas/_libs/parsers.pyx\u001b[0m in \u001b[0;36mpandas._libs.parsers.TextReader._setup_parser_source\u001b[0;34m()\u001b[0m\n",
            "\u001b[0;31mFileNotFoundError\u001b[0m: [Errno 2] No such file or directory: 'C:\\\\Users\\\\nates\\\\Desktop\\\\MPS Program\\\\CDA 501 Int. Data Driven Analysis\\\\Python Project\\\\qb_stats_and_projections.csv'"
          ]
        }
      ]
    },
    {
      "cell_type": "code",
      "metadata": {
        "id": "58623a16"
      },
      "source": [
        "    #Drops unnecessary columns that are categorical and don't relate to the question being solved   \n",
        "    \n",
        "    qbclean = qbdf.drop(['Unnamed: 0', 'TEAM NAME', 'PLAYER POSITION', '2020 OUTLOOK'], axis=1)\n",
        "    #print(qbclean)\n",
        "    \n",
        "    \n",
        "    rbclean = rbdf.drop(['Unnamed: 0', 'TEAM NAME', 'PLAYER POSITION', 'Player OUTLOOK'], axis=1)\n",
        "    #print(rbclean)\n",
        "    \n",
        "    \n",
        "    wrclean = wrdf.drop(['Unnamed: 0', 'TEAM', 'POSITION', '2020 PLAYER OUTLOOK'], axis=1)\n",
        "    #print(wrclean)"
      ],
      "id": "58623a16",
      "execution_count": null,
      "outputs": []
    },
    {
      "cell_type": "code",
      "metadata": {
        "id": "443f5f9b",
        "outputId": "27f7d3f7-4869-495b-e6f7-b390b54fd4f7"
      },
      "source": [
        "    #Drops rows that have Null values\n",
        "    qbclean = qbclean.dropna()\n",
        "    #print(qbclean)\n",
        "    \n",
        "    rbclean = rbclean.dropna()\n",
        "    #print(rbclean)\n",
        "    \n",
        "    wrclean = wrclean.dropna()\n",
        "    print(wrclean)"
      ],
      "id": "443f5f9b",
      "execution_count": null,
      "outputs": [
        {
          "name": "stdout",
          "output_type": "stream",
          "text": [
            "          PLAYER NAME  2019 TAR  2019 REC  2019 REC YARDS  2019 AVG REC YARDS  \\\n",
            "0      Michael Thomas     185.0     149.0          1725.0                11.6   \n",
            "1     DeAndre Hopkins     150.0     104.0          1165.0                11.2   \n",
            "2         Julio Jones     157.0      99.0          1394.0                14.1   \n",
            "3        Chris Godwin     120.0      86.0          1333.0                15.5   \n",
            "4       Davante Adams     127.0      83.0           997.0                12.0   \n",
            "..                ...       ...       ...             ...                 ...   \n",
            "195     Da'Mari Scott       3.0       2.0            22.0                11.0   \n",
            "196      Trevor Davis      11.0       8.0           111.0                13.9   \n",
            "197  Darrius Shepherd       2.0       1.0             1.0                 1.0   \n",
            "198   Trent Sherfield      12.0       4.0            80.0                20.0   \n",
            "199    DeAndrew White       9.0       4.0            51.0                12.8   \n",
            "\n",
            "     2019 REC TDS  2019 RUSH CAR  2019 RUSH YARDS  2019 RUSH TDS  2019 FPTS  \\\n",
            "0             9.0            1.0             -9.0            0.0     374.60   \n",
            "1             7.0            2.0             18.0            0.0     268.54   \n",
            "2             6.0            2.0             -3.0            0.0     274.10   \n",
            "3             9.0            1.0              8.0            0.0     276.10   \n",
            "4             5.0            0.0              0.0            0.0     212.70   \n",
            "..            ...            ...              ...            ...        ...   \n",
            "195           0.0            1.0              5.0            0.0       4.70   \n",
            "196           0.0            4.0             73.0            1.0      28.40   \n",
            "197           0.0            0.0              0.0            0.0      -0.90   \n",
            "198           0.0            0.0              0.0            0.0      12.00   \n",
            "199           0.0            0.0              0.0            0.0       9.10   \n",
            "\n",
            "     2020 TAR  2020 REC  2020 REC YARDS  2020 AVG REC YARDS  2020 REC TDS  \\\n",
            "0       152.0     114.0          1351.0                11.9           9.0   \n",
            "1       141.0      92.0          1140.0                12.3           8.0   \n",
            "2       139.0      89.0          1245.0                14.0           7.0   \n",
            "3       131.0      88.0          1191.0                13.6           8.0   \n",
            "4       137.0      90.0          1149.0                12.7           7.0   \n",
            "..        ...       ...             ...                 ...           ...   \n",
            "195       0.0       0.0             0.0                 0.0           0.0   \n",
            "196       0.0       0.0             0.0                 0.0           0.0   \n",
            "197       0.0       0.0             0.0                 0.0           0.0   \n",
            "198       0.0       0.0             0.0                 0.0           0.0   \n",
            "199       0.0       0.0             0.0                 0.0           0.0   \n",
            "\n",
            "     2020 RUSH CAR  2020 RUSH YARDS  2020 RUSH TDS  2020 FPTS  \n",
            "0              0.0              0.0            0.0     301.44  \n",
            "1              4.0             23.0            0.0     255.30  \n",
            "2              2.0             10.0            0.0     253.95  \n",
            "3              0.0              0.0            0.0     251.83  \n",
            "4              0.0              0.0            0.0     249.39  \n",
            "..             ...              ...            ...        ...  \n",
            "195            0.0              0.0            0.0       0.45  \n",
            "196            0.0              0.0            0.0       0.29  \n",
            "197            0.0              0.0            0.0       0.19  \n",
            "198            0.0              0.0            0.0       0.12  \n",
            "199            0.0              0.0            0.0       0.12  \n",
            "\n",
            "[162 rows x 19 columns]\n"
          ]
        }
      ]
    },
    {
      "cell_type": "code",
      "metadata": {
        "id": "ea335f96",
        "outputId": "26e84275-f681-4a1a-da9d-621b58412341"
      },
      "source": [
        "    #Removes rows that are all zeros\n",
        "    \n",
        "    qbclean = qbclean.loc[~(qbclean==0).any(axis=1)]\n",
        "    #print(qbclean)\n",
        "    \n",
        "    rbclean = rbclean.loc[~(rbclean==0).any(axis=1)]\n",
        "    #print(rbclean)\n",
        "    \n",
        "    wrclean = wrclean.loc[~(wrclean==0).all(axis=1)]\n",
        "    print(wrclean)"
      ],
      "id": "ea335f96",
      "execution_count": null,
      "outputs": [
        {
          "name": "stdout",
          "output_type": "stream",
          "text": [
            "          PLAYER NAME  2019 TAR  2019 REC  2019 REC YARDS  2019 AVG REC YARDS  \\\n",
            "0      Michael Thomas     185.0     149.0          1725.0                11.6   \n",
            "1     DeAndre Hopkins     150.0     104.0          1165.0                11.2   \n",
            "2         Julio Jones     157.0      99.0          1394.0                14.1   \n",
            "3        Chris Godwin     120.0      86.0          1333.0                15.5   \n",
            "4       Davante Adams     127.0      83.0           997.0                12.0   \n",
            "..                ...       ...       ...             ...                 ...   \n",
            "195     Da'Mari Scott       3.0       2.0            22.0                11.0   \n",
            "196      Trevor Davis      11.0       8.0           111.0                13.9   \n",
            "197  Darrius Shepherd       2.0       1.0             1.0                 1.0   \n",
            "198   Trent Sherfield      12.0       4.0            80.0                20.0   \n",
            "199    DeAndrew White       9.0       4.0            51.0                12.8   \n",
            "\n",
            "     2019 REC TDS  2019 RUSH CAR  2019 RUSH YARDS  2019 RUSH TDS  2019 FPTS  \\\n",
            "0             9.0            1.0             -9.0            0.0     374.60   \n",
            "1             7.0            2.0             18.0            0.0     268.54   \n",
            "2             6.0            2.0             -3.0            0.0     274.10   \n",
            "3             9.0            1.0              8.0            0.0     276.10   \n",
            "4             5.0            0.0              0.0            0.0     212.70   \n",
            "..            ...            ...              ...            ...        ...   \n",
            "195           0.0            1.0              5.0            0.0       4.70   \n",
            "196           0.0            4.0             73.0            1.0      28.40   \n",
            "197           0.0            0.0              0.0            0.0      -0.90   \n",
            "198           0.0            0.0              0.0            0.0      12.00   \n",
            "199           0.0            0.0              0.0            0.0       9.10   \n",
            "\n",
            "     2020 TAR  2020 REC  2020 REC YARDS  2020 AVG REC YARDS  2020 REC TDS  \\\n",
            "0       152.0     114.0          1351.0                11.9           9.0   \n",
            "1       141.0      92.0          1140.0                12.3           8.0   \n",
            "2       139.0      89.0          1245.0                14.0           7.0   \n",
            "3       131.0      88.0          1191.0                13.6           8.0   \n",
            "4       137.0      90.0          1149.0                12.7           7.0   \n",
            "..        ...       ...             ...                 ...           ...   \n",
            "195       0.0       0.0             0.0                 0.0           0.0   \n",
            "196       0.0       0.0             0.0                 0.0           0.0   \n",
            "197       0.0       0.0             0.0                 0.0           0.0   \n",
            "198       0.0       0.0             0.0                 0.0           0.0   \n",
            "199       0.0       0.0             0.0                 0.0           0.0   \n",
            "\n",
            "     2020 RUSH CAR  2020 RUSH YARDS  2020 RUSH TDS  2020 FPTS  \n",
            "0              0.0              0.0            0.0     301.44  \n",
            "1              4.0             23.0            0.0     255.30  \n",
            "2              2.0             10.0            0.0     253.95  \n",
            "3              0.0              0.0            0.0     251.83  \n",
            "4              0.0              0.0            0.0     249.39  \n",
            "..             ...              ...            ...        ...  \n",
            "195            0.0              0.0            0.0       0.45  \n",
            "196            0.0              0.0            0.0       0.29  \n",
            "197            0.0              0.0            0.0       0.19  \n",
            "198            0.0              0.0            0.0       0.12  \n",
            "199            0.0              0.0            0.0       0.12  \n",
            "\n",
            "[162 rows x 19 columns]\n"
          ]
        }
      ]
    },
    {
      "cell_type": "code",
      "metadata": {
        "id": "4b5ab7bf",
        "outputId": "28fd79b3-c200-407b-b056-21d59ba0ab1e"
      },
      "source": [
        "    #Gives descriptive statistics of the data\n",
        "    \n",
        "    qbcleandes = qbclean.describe()\n",
        "    print(qbcleandes)\n",
        "    \n",
        "    rbcleandes = rbclean.describe()\n",
        "    #print(rbcleandes)\n",
        "    \n",
        "    wrcleandes = wrclean.describe()\n",
        "    #print(wrcleandes)"
      ],
      "id": "4b5ab7bf",
      "execution_count": null,
      "outputs": [
        {
          "name": "stdout",
          "output_type": "stream",
          "text": [
            "       2019 COMPLETED PASS  2019 ATTEMPTED PASS  2019 PASSING YDS  \\\n",
            "count            22.000000            22.000000         22.000000   \n",
            "mean            326.000000           503.409091       3724.363636   \n",
            "std              50.566317            85.086320        583.729842   \n",
            "min             201.000000           286.000000       2742.000000   \n",
            "25%             289.750000           459.500000       3129.750000   \n",
            "50%             327.500000           507.500000       3839.500000   \n",
            "75%             359.000000           562.250000       4050.250000   \n",
            "max             408.000000           626.000000       4902.000000   \n",
            "\n",
            "       2019 PASSING TD   2019 INT    2019 CAR  2019 RUSH YDS  2019 RUSH TD  \\\n",
            "count        22.000000  22.000000   22.000000      22.000000     22.000000   \n",
            "mean         24.500000   9.772727   54.318182     248.318182      2.954545   \n",
            "std           4.437395   4.363614   36.011091     260.881361      2.192569   \n",
            "min          17.000000   4.000000    9.000000      -4.000000      1.000000   \n",
            "25%          21.250000   6.000000   33.000000      67.750000      1.250000   \n",
            "50%          25.000000   9.500000   45.500000     189.000000      2.000000   \n",
            "75%          26.750000  12.750000   60.000000     278.500000      3.750000   \n",
            "max          36.000000  21.000000  176.000000    1206.000000      9.000000   \n",
            "\n",
            "        2019 FPTS  2020 COMPLETED PASS  2020 ATTEMPTED PASS  2020 PASSING YDS  \\\n",
            "count   22.000000            22.000000            22.000000         22.000000   \n",
            "mean   266.333636           312.863636           485.500000       3628.136364   \n",
            "std     51.458605            71.678047           109.763707        854.990019   \n",
            "min    189.160000            79.000000           127.000000        917.000000   \n",
            "25%    232.250000           301.250000           468.500000       3530.750000   \n",
            "50%    255.600000           334.000000           517.500000       3728.500000   \n",
            "75%    286.600000           349.750000           541.250000       4016.250000   \n",
            "max    415.680000           390.000000           600.000000       4533.000000   \n",
            "\n",
            "       2020 PASSING TD   2020 INT    2020 CAR  2020 RUSH YDS  2020 RUSH TD  \\\n",
            "count        22.000000  22.000000   22.000000      22.000000     22.000000   \n",
            "mean         23.727273  10.363636   51.545455     232.954545      2.318182   \n",
            "std           6.598570   2.682313   32.836866     217.023474      1.358794   \n",
            "min           5.000000   4.000000   13.000000      11.000000      1.000000   \n",
            "25%          22.000000   9.000000   31.250000      78.750000      1.250000   \n",
            "50%          25.000000  10.500000   44.000000     168.000000      2.000000   \n",
            "75%          27.000000  12.000000   60.250000     276.750000      2.750000   \n",
            "max          32.000000  15.000000  156.000000     902.000000      6.000000   \n",
            "\n",
            "        2020 FPTS  \n",
            "count   22.000000  \n",
            "mean   251.605909  \n",
            "std     66.652435  \n",
            "min     56.150000  \n",
            "25%    233.817500  \n",
            "50%    266.025000  \n",
            "75%    293.260000  \n",
            "max    338.230000  \n"
          ]
        }
      ]
    },
    {
      "cell_type": "code",
      "metadata": {
        "id": "0f35491a",
        "outputId": "3d64c31e-bc7f-466c-aa0c-0818afbdd255"
      },
      "source": [
        "    #Scatterplot that does work\n",
        "    \n",
        "    sns.catplot(x='2019 PASSING YDS', y='2019 FPTS', data=qbclean)\n",
        "    \n",
        "    sns.catplot(x='2019 RUSH YDS', y='2019 FPTS', data=rbclean)\n",
        "    \n",
        "    sns.catplot(x='2019 REC YARDS', y='2019 FPTS', data=wrclean)\n"
      ],
      "id": "0f35491a",
      "execution_count": null,
      "outputs": [
        {
          "data": {
            "text/plain": [
              "<seaborn.axisgrid.FacetGrid at 0x207abeaa310>"
            ]
          },
          "execution_count": 13,
          "metadata": {},
          "output_type": "execute_result"
        },
        {
          "data": {
            "image/png": "[encoded data removed]",
            "text/plain": [
              "<Figure size 360x360 with 1 Axes>"
            ]
          },
          "metadata": {
            "needs_background": "light"
          },
          "output_type": "display_data"
        },
        {
          "data": {
            "image/png": "[encoded data removed]",
            "text/plain": [
              "<Figure size 360x360 with 1 Axes>"
            ]
          },
          "metadata": {
            "needs_background": "light"
          },
          "output_type": "display_data"
        },
        {
          "data": {
            "image/png": "[encoded data removed]",
            "text/plain": [
              "<Figure size 360x360 with 1 Axes>"
            ]
          },
          "metadata": {
            "needs_background": "light"
          },
          "output_type": "display_data"
        }
      ]
    },
    {
      "cell_type": "code",
      "metadata": {
        "id": "8ee487e6",
        "outputId": "0294d17e-7fe0-4b05-9f09-13c75855a725"
      },
      "source": [
        "    #Logistic Regression\n",
        "    \n",
        "    class sklearn.linear_model.LogisticRegression(penalty='l2', *, dual=False, tol=0.0001, C=1.0, fit_intercept=True,\n",
        "    intercept_scaling=1, class_weight=None, random_state=None, solver='lbfgs', max_iter=100, multi_class='auto', \n",
        "    verbose=0, warm_start=False, n_jobs=None, l1_ratio=None)\n",
        "    \n",
        "    "
      ],
      "id": "8ee487e6",
      "execution_count": null,
      "outputs": [
        {
          "ename": "SyntaxError",
          "evalue": "invalid syntax (<ipython-input-11-f22c2d0e871a>, line 3)",
          "output_type": "error",
          "traceback": [
            "\u001b[1;36m  File \u001b[1;32m\"<ipython-input-11-f22c2d0e871a>\"\u001b[1;36m, line \u001b[1;32m3\u001b[0m\n\u001b[1;33m    class sklearn.linear_model.LogisticRegression(penalty='l2', *, dual=False, tol=0.0001, C=1.0, fit_intercept=True,\u001b[0m\n\u001b[1;37m                 ^\u001b[0m\n\u001b[1;31mSyntaxError\u001b[0m\u001b[1;31m:\u001b[0m invalid syntax\n"
          ]
        }
      ]
    },
    {
      "cell_type": "code",
      "metadata": {
        "id": "ad692d2e"
      },
      "source": [
        "    #QDA\n",
        "    \n",
        "    class sklearn.linear_model.LogisticRegression(penalty='l2', *, dual=False, tol=0.0001, C=1.0, fit_intercept=True,\n",
        "    intercept_scaling=1, class_weight=None, random_state=None, solver='lbfgs', max_iter=100, multi_class='auto', \n",
        "    verbose=0, warm_start=False, n_jobs=None, l1_ratio=None)\n",
        "    "
      ],
      "id": "ad692d2e",
      "execution_count": null,
      "outputs": []
    },
    {
      "cell_type": "code",
      "metadata": {
        "id": "5bb5c41a"
      },
      "source": [
        "    #Random Forests\n",
        "    \n",
        "    class sklearn.linear_model.LogisticRegression(penalty='l2', *, dual=False, tol=0.0001, C=1.0, fit_intercept=True,\n",
        "    intercept_scaling=1, class_weight=None, random_state=None, solver='lbfgs', max_iter=100, multi_class='auto', \n",
        "    verbose=0, warm_start=False, n_jobs=None, l1_ratio=None)\n",
        "    "
      ],
      "id": "5bb5c41a",
      "execution_count": null,
      "outputs": []
    },
    {
      "cell_type": "code",
      "metadata": {
        "id": "e0f78c04"
      },
      "source": [
        "    #Support Vector Machines\n",
        "    \n",
        "    class sklearn.linear_model.LogisticRegression(penalty='l2', *, dual=False, tol=0.0001, C=1.0, fit_intercept=True,\n",
        "    intercept_scaling=1, class_weight=None, random_state=None, solver='lbfgs', max_iter=100, multi_class='auto', \n",
        "    verbose=0, warm_start=False, n_jobs=None, l1_ratio=None)\n",
        "    "
      ],
      "id": "e0f78c04",
      "execution_count": null,
      "outputs": []
    }
  ]
}